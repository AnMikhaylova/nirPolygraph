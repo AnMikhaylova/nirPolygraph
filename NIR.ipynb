{
 "cells": [
  {
   "cell_type": "code",
   "execution_count": 1,
   "id": "65f25a2d",
   "metadata": {},
   "outputs": [],
   "source": [
    "import pandas as pd\n",
    "import datetime "
   ]
  },
  {
   "cell_type": "markdown",
   "id": "dc7d6f3d",
   "metadata": {},
   "source": [
    "## Задание путей и имени исследуемого \n"
   ]
  },
  {
   "cell_type": "code",
   "execution_count": 2,
   "id": "88a99377",
   "metadata": {},
   "outputs": [],
   "source": [
    "dataDir = 'D:\\\\dataPoly\\\\'\n",
    "faceData = dataDir + 'facereader\\\\'\n",
    "polyData = dataDir + 'polygraph\\\\'\n",
    "timeData = dataDir + 'time\\\\'\n",
    "subject = r'Базаев Кирилл'"
   ]
  },
  {
   "cell_type": "markdown",
   "id": "ade20431",
   "metadata": {},
   "source": [
    "## Импорт данных полиграфа"
   ]
  },
  {
   "cell_type": "code",
   "execution_count": 3,
   "id": "9dc8f215",
   "metadata": {},
   "outputs": [
    {
     "name": "stdout",
     "output_type": "stream",
     "text": [
      "<class 'pandas.core.frame.DataFrame'>\n",
      "RangeIndex: 13345 entries, 0 to 13344\n",
      "Data columns (total 2 columns):\n",
      " #   Column  Non-Null Count  Dtype         \n",
      "---  ------  --------------  -----         \n",
      " 0   Time    13345 non-null  datetime64[ns]\n",
      " 1   Value   13345 non-null  int64         \n",
      "dtypes: datetime64[ns](1), int64(1)\n",
      "memory usage: 208.6 KB\n"
     ]
    }
   ],
   "source": [
    "pathP1 = polyData + subject + '\\\\' + 'Фигуры_ABS_BLOOD_VOLUME.txt' #путь к файлу\n",
    "readColsP = ['Time', 'Value']\n",
    "bd_vl = pd.read_table(pathP1 ,sep='\\s+', usecols = readColsP)\n",
    "bd_vl['Time'] = bd_vl['Time'].apply(lambda x: datetime.datetime.utcfromtimestamp(x//1000).replace(microsecond=x%1000*1000))\n",
    "bd_vl.info()"
   ]
  },
  {
   "cell_type": "code",
   "execution_count": 4,
   "id": "913f6400",
   "metadata": {},
   "outputs": [
    {
     "data": {
      "text/plain": [
       "0        00:00:00.066000\n",
       "1        00:00:00.100000\n",
       "2        00:00:00.132000\n",
       "3        00:00:00.164000\n",
       "4        00:00:00.195000\n",
       "              ...       \n",
       "13340    00:07:07.696000\n",
       "13341    00:07:07.727000\n",
       "13342    00:07:07.759000\n",
       "13343    00:07:07.791000\n",
       "13344    00:07:07.823000\n",
       "Name: Time, Length: 13345, dtype: object"
      ]
     },
     "execution_count": 4,
     "metadata": {},
     "output_type": "execute_result"
    }
   ],
   "source": [
    "bd_vl['Time'].dt.time"
   ]
  },
  {
   "cell_type": "code",
   "execution_count": 39,
   "id": "c31730c3",
   "metadata": {
    "scrolled": true
   },
   "outputs": [],
   "source": [
    "#emotions['Video Time'] = pd.to_datetime(emotions['Video Time'])\n",
    "#pd.to_datetime(emotions['Video Time']).dt.time"
   ]
  },
  {
   "cell_type": "markdown",
   "id": "55a39f6d",
   "metadata": {},
   "source": [
    "## Импорт FaceReader"
   ]
  },
  {
   "cell_type": "code",
   "execution_count": 5,
   "id": "9597a419",
   "metadata": {},
   "outputs": [],
   "source": [
    "#cols = ['Neutral', 'Happy', 'Sad', 'Angry', 'Surprised', 'Scared',\n",
    "#       'Disgusted', 'Contempt', 'Valence', 'Arousal', 'Y - Head Orientation', \n",
    "#        'X - Head Orientation','Z - Head Orientation', 'Quality']\n",
    "\n",
    "readColsF = ['Video Time', 'Neutral', 'Happy', 'Sad', 'Angry', 'Surprised', 'Scared', 'Disgusted', 'Contempt', 'Valence', 'Arousal'] \n",
    "colsF = ['Neutral', 'Happy', 'Sad', 'Angry', 'Surprised', 'Scared', 'Disgusted', 'Contempt', 'Valence', 'Arousal'] \n",
    "#conv = dict.fromkeys(cols, lambda x: pd.to_numeric(x, errors='coerce'))\n",
    "na = [\"FIND_FAILED\", \"FIT_FAILED\"] #значения NA\n",
    "pathF1 = faceData + subject + '.txt'\n",
    "\n",
    "emotions = pd.read_table(pathF1, sep='\\t', skiprows=8, index_col=False, parse_dates = ['Video Time'], na_values = na, usecols = readColsF)\n",
    "#converters= conv\n",
    "\n",
    "emotions[colsF] = emotions[colsF].apply(pd.to_numeric,errors='coerce').fillna(emotions)\n",
    "\n",
    "#for i in range(26, 68):\n",
    "#    emotions.iloc[:,i] = pd.to_numeric(emotions.iloc[:,i], errors='coerce').fillna(0, downcast='infer')\n"
   ]
  },
  {
   "cell_type": "code",
   "execution_count": 6,
   "id": "afe23de7",
   "metadata": {},
   "outputs": [
    {
     "name": "stdout",
     "output_type": "stream",
     "text": [
      "<class 'pandas.core.frame.DataFrame'>\n",
      "RangeIndex: 10681 entries, 0 to 10680\n",
      "Data columns (total 11 columns):\n",
      " #   Column      Non-Null Count  Dtype         \n",
      "---  ------      --------------  -----         \n",
      " 0   Video Time  10681 non-null  datetime64[ns]\n",
      " 1   Neutral     10651 non-null  float64       \n",
      " 2   Happy       10651 non-null  float64       \n",
      " 3   Sad         10651 non-null  float64       \n",
      " 4   Angry       10651 non-null  float64       \n",
      " 5   Surprised   10651 non-null  float64       \n",
      " 6   Scared      10651 non-null  float64       \n",
      " 7   Disgusted   10651 non-null  float64       \n",
      " 8   Contempt    10651 non-null  float64       \n",
      " 9   Valence     10651 non-null  float64       \n",
      " 10  Arousal     10651 non-null  float64       \n",
      "dtypes: datetime64[ns](1), float64(10)\n",
      "memory usage: 918.0 KB\n"
     ]
    }
   ],
   "source": [
    "emotions.info()"
   ]
  },
  {
   "cell_type": "code",
   "execution_count": 7,
   "id": "5bf78ed0",
   "metadata": {},
   "outputs": [
    {
     "data": {
      "text/html": [
       "<div>\n",
       "<style scoped>\n",
       "    .dataframe tbody tr th:only-of-type {\n",
       "        vertical-align: middle;\n",
       "    }\n",
       "\n",
       "    .dataframe tbody tr th {\n",
       "        vertical-align: top;\n",
       "    }\n",
       "\n",
       "    .dataframe thead th {\n",
       "        text-align: right;\n",
       "    }\n",
       "</style>\n",
       "<table border=\"1\" class=\"dataframe\">\n",
       "  <thead>\n",
       "    <tr style=\"text-align: right;\">\n",
       "      <th></th>\n",
       "      <th>Video Time</th>\n",
       "      <th>Neutral</th>\n",
       "      <th>Happy</th>\n",
       "      <th>Sad</th>\n",
       "      <th>Angry</th>\n",
       "      <th>Surprised</th>\n",
       "      <th>Scared</th>\n",
       "      <th>Disgusted</th>\n",
       "      <th>Contempt</th>\n",
       "      <th>Valence</th>\n",
       "      <th>Arousal</th>\n",
       "    </tr>\n",
       "  </thead>\n",
       "  <tbody>\n",
       "    <tr>\n",
       "      <th>0</th>\n",
       "      <td>2023-04-08 00:00:00.000</td>\n",
       "      <td>NaN</td>\n",
       "      <td>NaN</td>\n",
       "      <td>NaN</td>\n",
       "      <td>NaN</td>\n",
       "      <td>NaN</td>\n",
       "      <td>NaN</td>\n",
       "      <td>NaN</td>\n",
       "      <td>NaN</td>\n",
       "      <td>NaN</td>\n",
       "      <td>NaN</td>\n",
       "    </tr>\n",
       "    <tr>\n",
       "      <th>1</th>\n",
       "      <td>2023-04-08 00:00:00.040</td>\n",
       "      <td>NaN</td>\n",
       "      <td>NaN</td>\n",
       "      <td>NaN</td>\n",
       "      <td>NaN</td>\n",
       "      <td>NaN</td>\n",
       "      <td>NaN</td>\n",
       "      <td>NaN</td>\n",
       "      <td>NaN</td>\n",
       "      <td>NaN</td>\n",
       "      <td>NaN</td>\n",
       "    </tr>\n",
       "    <tr>\n",
       "      <th>2</th>\n",
       "      <td>2023-04-08 00:00:00.080</td>\n",
       "      <td>NaN</td>\n",
       "      <td>NaN</td>\n",
       "      <td>NaN</td>\n",
       "      <td>NaN</td>\n",
       "      <td>NaN</td>\n",
       "      <td>NaN</td>\n",
       "      <td>NaN</td>\n",
       "      <td>NaN</td>\n",
       "      <td>NaN</td>\n",
       "      <td>NaN</td>\n",
       "    </tr>\n",
       "    <tr>\n",
       "      <th>3</th>\n",
       "      <td>2023-04-08 00:00:00.120</td>\n",
       "      <td>NaN</td>\n",
       "      <td>NaN</td>\n",
       "      <td>NaN</td>\n",
       "      <td>NaN</td>\n",
       "      <td>NaN</td>\n",
       "      <td>NaN</td>\n",
       "      <td>NaN</td>\n",
       "      <td>NaN</td>\n",
       "      <td>NaN</td>\n",
       "      <td>NaN</td>\n",
       "    </tr>\n",
       "    <tr>\n",
       "      <th>4</th>\n",
       "      <td>2023-04-08 00:00:00.160</td>\n",
       "      <td>NaN</td>\n",
       "      <td>NaN</td>\n",
       "      <td>NaN</td>\n",
       "      <td>NaN</td>\n",
       "      <td>NaN</td>\n",
       "      <td>NaN</td>\n",
       "      <td>NaN</td>\n",
       "      <td>NaN</td>\n",
       "      <td>NaN</td>\n",
       "      <td>NaN</td>\n",
       "    </tr>\n",
       "    <tr>\n",
       "      <th>5</th>\n",
       "      <td>2023-04-08 00:00:00.200</td>\n",
       "      <td>NaN</td>\n",
       "      <td>NaN</td>\n",
       "      <td>NaN</td>\n",
       "      <td>NaN</td>\n",
       "      <td>NaN</td>\n",
       "      <td>NaN</td>\n",
       "      <td>NaN</td>\n",
       "      <td>NaN</td>\n",
       "      <td>NaN</td>\n",
       "      <td>NaN</td>\n",
       "    </tr>\n",
       "    <tr>\n",
       "      <th>6</th>\n",
       "      <td>2023-04-08 00:00:00.240</td>\n",
       "      <td>NaN</td>\n",
       "      <td>NaN</td>\n",
       "      <td>NaN</td>\n",
       "      <td>NaN</td>\n",
       "      <td>NaN</td>\n",
       "      <td>NaN</td>\n",
       "      <td>NaN</td>\n",
       "      <td>NaN</td>\n",
       "      <td>NaN</td>\n",
       "      <td>NaN</td>\n",
       "    </tr>\n",
       "    <tr>\n",
       "      <th>7</th>\n",
       "      <td>2023-04-08 00:00:00.280</td>\n",
       "      <td>0.506445</td>\n",
       "      <td>0.000000e+00</td>\n",
       "      <td>0.000000</td>\n",
       "      <td>0.000000</td>\n",
       "      <td>0.000000e+00</td>\n",
       "      <td>0.000000e+00</td>\n",
       "      <td>0.000000</td>\n",
       "      <td>0.000000</td>\n",
       "      <td>0.000000</td>\n",
       "      <td>0.606562</td>\n",
       "    </tr>\n",
       "    <tr>\n",
       "      <th>8</th>\n",
       "      <td>2023-04-08 00:00:00.320</td>\n",
       "      <td>0.506471</td>\n",
       "      <td>1.000000e-09</td>\n",
       "      <td>0.000006</td>\n",
       "      <td>0.000000</td>\n",
       "      <td>1.940000e-07</td>\n",
       "      <td>4.000000e-09</td>\n",
       "      <td>0.000010</td>\n",
       "      <td>0.000025</td>\n",
       "      <td>-0.000010</td>\n",
       "      <td>0.606562</td>\n",
       "    </tr>\n",
       "    <tr>\n",
       "      <th>9</th>\n",
       "      <td>2023-04-08 00:00:00.360</td>\n",
       "      <td>0.504043</td>\n",
       "      <td>1.900000e-08</td>\n",
       "      <td>0.000012</td>\n",
       "      <td>0.004911</td>\n",
       "      <td>1.720000e-07</td>\n",
       "      <td>1.230000e-07</td>\n",
       "      <td>0.000284</td>\n",
       "      <td>0.000022</td>\n",
       "      <td>-0.004911</td>\n",
       "      <td>0.606548</td>\n",
       "    </tr>\n",
       "  </tbody>\n",
       "</table>\n",
       "</div>"
      ],
      "text/plain": [
       "               Video Time   Neutral         Happy       Sad     Angry  \\\n",
       "0 2023-04-08 00:00:00.000       NaN           NaN       NaN       NaN   \n",
       "1 2023-04-08 00:00:00.040       NaN           NaN       NaN       NaN   \n",
       "2 2023-04-08 00:00:00.080       NaN           NaN       NaN       NaN   \n",
       "3 2023-04-08 00:00:00.120       NaN           NaN       NaN       NaN   \n",
       "4 2023-04-08 00:00:00.160       NaN           NaN       NaN       NaN   \n",
       "5 2023-04-08 00:00:00.200       NaN           NaN       NaN       NaN   \n",
       "6 2023-04-08 00:00:00.240       NaN           NaN       NaN       NaN   \n",
       "7 2023-04-08 00:00:00.280  0.506445  0.000000e+00  0.000000  0.000000   \n",
       "8 2023-04-08 00:00:00.320  0.506471  1.000000e-09  0.000006  0.000000   \n",
       "9 2023-04-08 00:00:00.360  0.504043  1.900000e-08  0.000012  0.004911   \n",
       "\n",
       "      Surprised        Scared  Disgusted  Contempt   Valence   Arousal  \n",
       "0           NaN           NaN        NaN       NaN       NaN       NaN  \n",
       "1           NaN           NaN        NaN       NaN       NaN       NaN  \n",
       "2           NaN           NaN        NaN       NaN       NaN       NaN  \n",
       "3           NaN           NaN        NaN       NaN       NaN       NaN  \n",
       "4           NaN           NaN        NaN       NaN       NaN       NaN  \n",
       "5           NaN           NaN        NaN       NaN       NaN       NaN  \n",
       "6           NaN           NaN        NaN       NaN       NaN       NaN  \n",
       "7  0.000000e+00  0.000000e+00   0.000000  0.000000  0.000000  0.606562  \n",
       "8  1.940000e-07  4.000000e-09   0.000010  0.000025 -0.000010  0.606562  \n",
       "9  1.720000e-07  1.230000e-07   0.000284  0.000022 -0.004911  0.606548  "
      ]
     },
     "execution_count": 7,
     "metadata": {},
     "output_type": "execute_result"
    }
   ],
   "source": [
    "emotions.iloc[:10] #проверка значений NaN"
   ]
  },
  {
   "cell_type": "code",
   "execution_count": 8,
   "id": "f6e5b841",
   "metadata": {},
   "outputs": [],
   "source": [
    "#pd.DataFrame(columns= list(emotions.columns) + list(bd_vl.columns))"
   ]
  },
  {
   "cell_type": "code",
   "execution_count": 9,
   "id": "02b6ec10",
   "metadata": {},
   "outputs": [],
   "source": [
    "#end_time = 0 #в миллисекундах\n",
    "#if (bd_vl['Time'].iloc[-1].time() > emotions['Video Time'].iloc[-1].time()):\n",
    "#    end_time = bd_vl['Time'][len(bd_vl)-1].timestamp() * 1000\n",
    "#else:\n",
    "#    end_time = emotions['Video Time'][len(emotions)-1].timestamp() * 1000\n",
    "\n",
    "#print (end_time)\n",
    "#\n",
    "#i = 0 #start_time\n",
    "#while i < int(end_time):\n",
    "#    i += 50\n",
    "#    print (i)"
   ]
  },
  {
   "cell_type": "code",
   "execution_count": null,
   "id": "7cd90e87",
   "metadata": {},
   "outputs": [],
   "source": []
  }
 ],
 "metadata": {
  "kernelspec": {
   "display_name": "Python 3",
   "language": "python",
   "name": "python3"
  },
  "language_info": {
   "codemirror_mode": {
    "name": "ipython",
    "version": 3
   },
   "file_extension": ".py",
   "mimetype": "text/x-python",
   "name": "python",
   "nbconvert_exporter": "python",
   "pygments_lexer": "ipython3",
   "version": "3.8.8"
  }
 },
 "nbformat": 4,
 "nbformat_minor": 5
}
