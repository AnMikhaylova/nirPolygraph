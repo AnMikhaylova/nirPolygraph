{
 "cells": [
  {
   "cell_type": "code",
   "execution_count": 1,
   "id": "65f25a2d",
   "metadata": {},
   "outputs": [],
   "source": [
    "import pandas as pd\n",
    "import numpy as np\n",
    "import datetime \n",
    "import re \n",
    "from icecream import ic "
   ]
  },
  {
   "cell_type": "markdown",
   "id": "dc7d6f3d",
   "metadata": {},
   "source": [
    "## Задание путей и имени исследуемого \n"
   ]
  },
  {
   "cell_type": "code",
   "execution_count": 2,
   "id": "88a99377",
   "metadata": {},
   "outputs": [],
   "source": [
    "dataDir = 'D:\\\\dataPoly\\\\'\n",
    "faceData = dataDir + 'facereader\\\\'\n",
    "polyData = dataDir + 'polygraph\\\\'\n",
    "timeData = dataDir + 'time\\\\'\n",
    "polyChannels = [\"ABDOMINAL_RESP\", \"ABS_BLOOD_VOLUME\", \"BLOOD_VOLUME\", \"EDA\", \"HEART_RATE\", \"PLE\", \"THORACIC_RESP\", \"TONIC_EDA\", \"TREMOR\"]\n",
    "subject = r'Базаев Кирилл'"
   ]
  },
  {
   "cell_type": "markdown",
   "id": "c084e37b",
   "metadata": {},
   "source": [
    "## Импорт файла timeline"
   ]
  },
  {
   "cell_type": "code",
   "execution_count": 5,
   "id": "8663b7d1",
   "metadata": {
    "scrolled": true
   },
   "outputs": [
    {
     "name": "stderr",
     "output_type": "stream",
     "text": [
      "ic| 24385555.py:1 in <module> at 15:19:05.459\n",
      "ic| 24385555.py:5 in <module> at 15:19:05.819\n"
     ]
    }
   ],
   "source": [
    "ic()\n",
    "custom_date_parser = lambda x: datetime.datetime.strptime(x, \"%M:%S:%f\") #парсер для времени\n",
    "timeline = pd.read_excel(timeData + 'timeline.xlsx', parse_dates = list(range(2,20)), date_parser = custom_date_parser) #парсим время в колонках 2-19\n",
    "#timeline.info()\n",
    "ic()"
   ]
  },
  {
   "cell_type": "code",
   "execution_count": 4,
   "id": "8071515b",
   "metadata": {
    "scrolled": false
   },
   "outputs": [
    {
     "data": {
      "text/html": [
       "<div>\n",
       "<style scoped>\n",
       "    .dataframe tbody tr th:only-of-type {\n",
       "        vertical-align: middle;\n",
       "    }\n",
       "\n",
       "    .dataframe tbody tr th {\n",
       "        vertical-align: top;\n",
       "    }\n",
       "\n",
       "    .dataframe thead th {\n",
       "        text-align: right;\n",
       "    }\n",
       "</style>\n",
       "<table border=\"1\" class=\"dataframe\">\n",
       "  <thead>\n",
       "    <tr style=\"text-align: right;\">\n",
       "      <th></th>\n",
       "      <th>id</th>\n",
       "      <th>name</th>\n",
       "      <th>C0_1</th>\n",
       "      <th>C1_1</th>\n",
       "      <th>C2_1</th>\n",
       "      <th>C3_1</th>\n",
       "      <th>C4_1</th>\n",
       "      <th>C5_1</th>\n",
       "      <th>C0_2</th>\n",
       "      <th>C4_2</th>\n",
       "      <th>C5_2</th>\n",
       "      <th>C2_2</th>\n",
       "      <th>C1_2</th>\n",
       "      <th>C3_2</th>\n",
       "      <th>C0_3</th>\n",
       "      <th>C5_3</th>\n",
       "      <th>C3_3</th>\n",
       "      <th>C1_3</th>\n",
       "      <th>C2_3</th>\n",
       "      <th>C4_3</th>\n",
       "    </tr>\n",
       "  </thead>\n",
       "  <tbody>\n",
       "    <tr>\n",
       "      <th>0</th>\n",
       "      <td>1</td>\n",
       "      <td>Базаев Кирилл</td>\n",
       "      <td>1900-01-01 00:01:05.302</td>\n",
       "      <td>1900-01-01 00:01:25.656</td>\n",
       "      <td>1900-01-01 00:01:42.966</td>\n",
       "      <td>1900-01-01 00:01:59.607</td>\n",
       "      <td>1900-01-01 00:02:14.862</td>\n",
       "      <td>1900-01-01 00:02:28.700</td>\n",
       "      <td>1900-01-01 00:03:04.222</td>\n",
       "      <td>1900-01-01 00:03:24.951</td>\n",
       "      <td>1900-01-01 00:03:43.267</td>\n",
       "      <td>1900-01-01 00:04:01.486</td>\n",
       "      <td>1900-01-01 00:04:16.666</td>\n",
       "      <td>1900-01-01 00:04:30.894</td>\n",
       "      <td>1900-01-01 00:05:35.598</td>\n",
       "      <td>1900-01-01 00:05:52.870</td>\n",
       "      <td>1900-01-01 00:06:07.758</td>\n",
       "      <td>1900-01-01 00:06:22.134</td>\n",
       "      <td>1900-01-01 00:06:36.667</td>\n",
       "      <td>1900-01-01 00:06:52.270</td>\n",
       "    </tr>\n",
       "    <tr>\n",
       "      <th>1</th>\n",
       "      <td>2</td>\n",
       "      <td>Барсукова Мария</td>\n",
       "      <td>1900-01-01 00:00:58.441</td>\n",
       "      <td>1900-01-01 00:01:20.377</td>\n",
       "      <td>1900-01-01 00:01:37.649</td>\n",
       "      <td>1900-01-01 00:01:51.945</td>\n",
       "      <td>1900-01-01 00:02:08.205</td>\n",
       "      <td>1900-01-01 00:02:32.106</td>\n",
       "      <td>1900-01-01 00:03:18.457</td>\n",
       "      <td>1900-01-01 00:03:32.896</td>\n",
       "      <td>1900-01-01 00:03:48.295</td>\n",
       "      <td>1900-01-01 00:04:02.601</td>\n",
       "      <td>1900-01-01 00:04:18.021</td>\n",
       "      <td>1900-01-01 00:04:35.321</td>\n",
       "      <td>1900-01-01 00:04:51.897</td>\n",
       "      <td>1900-01-01 00:05:12.297</td>\n",
       "      <td>1900-01-01 00:05:28.057</td>\n",
       "      <td>1900-01-01 00:05:47.322</td>\n",
       "      <td>1900-01-01 00:06:03.922</td>\n",
       "      <td>1900-01-01 00:06:22.081</td>\n",
       "    </tr>\n",
       "    <tr>\n",
       "      <th>2</th>\n",
       "      <td>3</td>\n",
       "      <td>Белоус Полина</td>\n",
       "      <td>1900-01-01 00:03:29.261</td>\n",
       "      <td>1900-01-01 00:03:43.350</td>\n",
       "      <td>1900-01-01 00:04:02.956</td>\n",
       "      <td>1900-01-01 00:04:19.804</td>\n",
       "      <td>1900-01-01 00:04:34.109</td>\n",
       "      <td>1900-01-01 00:04:51.717</td>\n",
       "      <td>1900-01-01 00:05:33.717</td>\n",
       "      <td>1900-01-01 00:05:48.357</td>\n",
       "      <td>1900-01-01 00:06:03.545</td>\n",
       "      <td>1900-01-01 00:06:18.301</td>\n",
       "      <td>1900-01-01 00:06:32.620</td>\n",
       "      <td>1900-01-01 00:06:47.350</td>\n",
       "      <td>1900-01-01 00:07:35.167</td>\n",
       "      <td>1900-01-01 00:07:50.820</td>\n",
       "      <td>1900-01-01 00:08:05.837</td>\n",
       "      <td>1900-01-01 00:08:23.700</td>\n",
       "      <td>1900-01-01 00:08:39.181</td>\n",
       "      <td>1900-01-01 00:08:59.517</td>\n",
       "    </tr>\n",
       "    <tr>\n",
       "      <th>3</th>\n",
       "      <td>4</td>\n",
       "      <td>Богеварова Елена</td>\n",
       "      <td>1900-01-01 00:00:44.229</td>\n",
       "      <td>1900-01-01 00:01:04.277</td>\n",
       "      <td>1900-01-01 00:01:23.597</td>\n",
       "      <td>1900-01-01 00:01:40.029</td>\n",
       "      <td>1900-01-01 00:01:57.810</td>\n",
       "      <td>1900-01-01 00:02:11.949</td>\n",
       "      <td>1900-01-01 00:02:45.943</td>\n",
       "      <td>1900-01-01 00:03:03.429</td>\n",
       "      <td>1900-01-01 00:03:17.622</td>\n",
       "      <td>1900-01-01 00:03:32.230</td>\n",
       "      <td>1900-01-01 00:03:46.561</td>\n",
       "      <td>1900-01-01 00:04:00.278</td>\n",
       "      <td>1900-01-01 00:04:41.557</td>\n",
       "      <td>1900-01-01 00:04:55.781</td>\n",
       "      <td>1900-01-01 00:05:09.834</td>\n",
       "      <td>1900-01-01 00:05:26.360</td>\n",
       "      <td>1900-01-01 00:05:40.885</td>\n",
       "      <td>1900-01-01 00:05:55.237</td>\n",
       "    </tr>\n",
       "    <tr>\n",
       "      <th>4</th>\n",
       "      <td>5</td>\n",
       "      <td>Браславская Элеонора</td>\n",
       "      <td>1900-01-01 00:02:07.703</td>\n",
       "      <td>1900-01-01 00:02:23.513</td>\n",
       "      <td>1900-01-01 00:02:39.265</td>\n",
       "      <td>1900-01-01 00:02:54.249</td>\n",
       "      <td>1900-01-01 00:03:07.977</td>\n",
       "      <td>1900-01-01 00:03:22.169</td>\n",
       "      <td>1900-01-01 00:04:17.569</td>\n",
       "      <td>1900-01-01 00:04:33.737</td>\n",
       "      <td>1900-01-01 00:04:47.859</td>\n",
       "      <td>1900-01-01 00:05:03.025</td>\n",
       "      <td>1900-01-01 00:05:18.326</td>\n",
       "      <td>1900-01-01 00:05:33.097</td>\n",
       "      <td>1900-01-01 00:06:15.742</td>\n",
       "      <td>1900-01-01 00:06:29.553</td>\n",
       "      <td>1900-01-01 00:06:43.321</td>\n",
       "      <td>1900-01-01 00:06:57.281</td>\n",
       "      <td>1900-01-01 00:07:11.226</td>\n",
       "      <td>1900-01-01 00:07:24.909</td>\n",
       "    </tr>\n",
       "  </tbody>\n",
       "</table>\n",
       "</div>"
      ],
      "text/plain": [
       "   id                  name                    C0_1                    C1_1  \\\n",
       "0   1         Базаев Кирилл 1900-01-01 00:01:05.302 1900-01-01 00:01:25.656   \n",
       "1   2       Барсукова Мария 1900-01-01 00:00:58.441 1900-01-01 00:01:20.377   \n",
       "2   3         Белоус Полина 1900-01-01 00:03:29.261 1900-01-01 00:03:43.350   \n",
       "3   4      Богеварова Елена 1900-01-01 00:00:44.229 1900-01-01 00:01:04.277   \n",
       "4   5  Браславская Элеонора 1900-01-01 00:02:07.703 1900-01-01 00:02:23.513   \n",
       "\n",
       "                     C2_1                    C3_1                    C4_1  \\\n",
       "0 1900-01-01 00:01:42.966 1900-01-01 00:01:59.607 1900-01-01 00:02:14.862   \n",
       "1 1900-01-01 00:01:37.649 1900-01-01 00:01:51.945 1900-01-01 00:02:08.205   \n",
       "2 1900-01-01 00:04:02.956 1900-01-01 00:04:19.804 1900-01-01 00:04:34.109   \n",
       "3 1900-01-01 00:01:23.597 1900-01-01 00:01:40.029 1900-01-01 00:01:57.810   \n",
       "4 1900-01-01 00:02:39.265 1900-01-01 00:02:54.249 1900-01-01 00:03:07.977   \n",
       "\n",
       "                     C5_1                    C0_2                    C4_2  \\\n",
       "0 1900-01-01 00:02:28.700 1900-01-01 00:03:04.222 1900-01-01 00:03:24.951   \n",
       "1 1900-01-01 00:02:32.106 1900-01-01 00:03:18.457 1900-01-01 00:03:32.896   \n",
       "2 1900-01-01 00:04:51.717 1900-01-01 00:05:33.717 1900-01-01 00:05:48.357   \n",
       "3 1900-01-01 00:02:11.949 1900-01-01 00:02:45.943 1900-01-01 00:03:03.429   \n",
       "4 1900-01-01 00:03:22.169 1900-01-01 00:04:17.569 1900-01-01 00:04:33.737   \n",
       "\n",
       "                     C5_2                    C2_2                    C1_2  \\\n",
       "0 1900-01-01 00:03:43.267 1900-01-01 00:04:01.486 1900-01-01 00:04:16.666   \n",
       "1 1900-01-01 00:03:48.295 1900-01-01 00:04:02.601 1900-01-01 00:04:18.021   \n",
       "2 1900-01-01 00:06:03.545 1900-01-01 00:06:18.301 1900-01-01 00:06:32.620   \n",
       "3 1900-01-01 00:03:17.622 1900-01-01 00:03:32.230 1900-01-01 00:03:46.561   \n",
       "4 1900-01-01 00:04:47.859 1900-01-01 00:05:03.025 1900-01-01 00:05:18.326   \n",
       "\n",
       "                     C3_2                    C0_3                    C5_3  \\\n",
       "0 1900-01-01 00:04:30.894 1900-01-01 00:05:35.598 1900-01-01 00:05:52.870   \n",
       "1 1900-01-01 00:04:35.321 1900-01-01 00:04:51.897 1900-01-01 00:05:12.297   \n",
       "2 1900-01-01 00:06:47.350 1900-01-01 00:07:35.167 1900-01-01 00:07:50.820   \n",
       "3 1900-01-01 00:04:00.278 1900-01-01 00:04:41.557 1900-01-01 00:04:55.781   \n",
       "4 1900-01-01 00:05:33.097 1900-01-01 00:06:15.742 1900-01-01 00:06:29.553   \n",
       "\n",
       "                     C3_3                    C1_3                    C2_3  \\\n",
       "0 1900-01-01 00:06:07.758 1900-01-01 00:06:22.134 1900-01-01 00:06:36.667   \n",
       "1 1900-01-01 00:05:28.057 1900-01-01 00:05:47.322 1900-01-01 00:06:03.922   \n",
       "2 1900-01-01 00:08:05.837 1900-01-01 00:08:23.700 1900-01-01 00:08:39.181   \n",
       "3 1900-01-01 00:05:09.834 1900-01-01 00:05:26.360 1900-01-01 00:05:40.885   \n",
       "4 1900-01-01 00:06:43.321 1900-01-01 00:06:57.281 1900-01-01 00:07:11.226   \n",
       "\n",
       "                     C4_3  \n",
       "0 1900-01-01 00:06:52.270  \n",
       "1 1900-01-01 00:06:22.081  \n",
       "2 1900-01-01 00:08:59.517  \n",
       "3 1900-01-01 00:05:55.237  \n",
       "4 1900-01-01 00:07:24.909  "
      ]
     },
     "execution_count": 4,
     "metadata": {},
     "output_type": "execute_result"
    }
   ],
   "source": [
    "timeline.head()"
   ]
  },
  {
   "cell_type": "markdown",
   "id": "ade20431",
   "metadata": {},
   "source": [
    "## Импорт данных полиграфа"
   ]
  },
  {
   "cell_type": "code",
   "execution_count": 4,
   "id": "9dc8f215",
   "metadata": {},
   "outputs": [
    {
     "name": "stderr",
     "output_type": "stream",
     "text": [
      "ic| 3615681125.py:1 in <module> at 15:18:55.026\n",
      "ic| 3615681125.py:12 in <module> at 15:18:55.668\n"
     ]
    }
   ],
   "source": [
    "ic()\n",
    "polyDict = {}\n",
    "readColsP = ['Time', 'Value']\n",
    "\n",
    "for p in polyChannels:\n",
    "    pathP1 = polyData + subject + '\\\\' + 'Фигуры_' + p + '.txt' #путь к файлу\n",
    "    df = pd.read_table(pathP1 ,sep='\\s+', usecols = readColsP)\n",
    "    df['Value'] = df['Value'].replace(',', '.', regex = True).astype(float)\n",
    "    df['Time'] = df['Time'].apply(lambda x: datetime.datetime.utcfromtimestamp(x//1000).replace(microsecond=x%1000*1000))\n",
    "    polyDict[p] = df\n",
    "\n",
    "ic()"
   ]
  },
  {
   "cell_type": "code",
   "execution_count": 54,
   "id": "913f6400",
   "metadata": {},
   "outputs": [],
   "source": [
    "#bd_vl['Time'].dt.time"
   ]
  },
  {
   "cell_type": "code",
   "execution_count": 8,
   "id": "c31730c3",
   "metadata": {
    "scrolled": true
   },
   "outputs": [],
   "source": [
    "#emotions['Video Time'] = pd.to_datetime(emotions['Video Time'])\n",
    "#pd.to_datetime(emotions['Video Time']).dt.time"
   ]
  },
  {
   "cell_type": "markdown",
   "id": "55a39f6d",
   "metadata": {},
   "source": [
    "## Импорт FaceReader"
   ]
  },
  {
   "cell_type": "code",
   "execution_count": 6,
   "id": "9597a419",
   "metadata": {},
   "outputs": [
    {
     "name": "stderr",
     "output_type": "stream",
     "text": [
      "ic| 1281079460.py:4 in <module> at 15:19:24.680\n",
      "ic| 1281079460.py:18 in <module> at 15:19:25.601\n"
     ]
    }
   ],
   "source": [
    "#cols = ['Neutral', 'Happy', 'Sad', 'Angry', 'Surprised', 'Scared',\n",
    "#       'Disgusted', 'Contempt', 'Valence', 'Arousal', 'Y - Head Orientation', \n",
    "#        'X - Head Orientation','Z - Head Orientation', 'Quality']\n",
    "ic()\n",
    "readColsF = ['Video Time', 'Neutral', 'Happy', 'Sad', 'Angry', 'Surprised', 'Scared', 'Disgusted', 'Contempt', 'Valence', 'Arousal'] \n",
    "colsF = ['Neutral', 'Happy', 'Sad', 'Angry', 'Surprised', 'Scared', 'Disgusted', 'Contempt', 'Valence', 'Arousal'] \n",
    "#conv = dict.fromkeys(cols, lambda x: pd.to_numeric(x, errors='coerce'))\n",
    "na = [\"FIND_FAILED\", \"FIT_FAILED\"] #значения NA\n",
    "pathF1 = faceData + subject + '.txt'\n",
    "\n",
    "emotions = pd.read_table(pathF1, sep='\\t', skiprows=8, index_col=False, parse_dates = ['Video Time'], na_values = na, usecols = readColsF)\n",
    "#converters= conv\n",
    "\n",
    "emotions[colsF] = emotions[colsF].apply(pd.to_numeric,errors='coerce').fillna(emotions)\n",
    "\n",
    "#for i in range(26, 68):\n",
    "#    emotions.iloc[:,i] = pd.to_numeric(emotions.iloc[:,i], errors='coerce').fillna(0, downcast='infer')\n",
    "ic()"
   ]
  },
  {
   "cell_type": "code",
   "execution_count": 38,
   "id": "afe23de7",
   "metadata": {},
   "outputs": [
    {
     "name": "stdout",
     "output_type": "stream",
     "text": [
      "<class 'pandas.core.frame.DataFrame'>\n",
      "RangeIndex: 10681 entries, 0 to 10680\n",
      "Data columns (total 11 columns):\n",
      " #   Column      Non-Null Count  Dtype         \n",
      "---  ------      --------------  -----         \n",
      " 0   Video Time  10681 non-null  datetime64[ns]\n",
      " 1   Neutral     10651 non-null  float64       \n",
      " 2   Happy       10651 non-null  float64       \n",
      " 3   Sad         10651 non-null  float64       \n",
      " 4   Angry       10651 non-null  float64       \n",
      " 5   Surprised   10651 non-null  float64       \n",
      " 6   Scared      10651 non-null  float64       \n",
      " 7   Disgusted   10651 non-null  float64       \n",
      " 8   Contempt    10651 non-null  float64       \n",
      " 9   Valence     10651 non-null  float64       \n",
      " 10  Arousal     10651 non-null  float64       \n",
      "dtypes: datetime64[ns](1), float64(10)\n",
      "memory usage: 918.0 KB\n"
     ]
    }
   ],
   "source": [
    "emotions.info()"
   ]
  },
  {
   "cell_type": "code",
   "execution_count": 39,
   "id": "5bf78ed0",
   "metadata": {},
   "outputs": [
    {
     "data": {
      "text/html": [
       "<div>\n",
       "<style scoped>\n",
       "    .dataframe tbody tr th:only-of-type {\n",
       "        vertical-align: middle;\n",
       "    }\n",
       "\n",
       "    .dataframe tbody tr th {\n",
       "        vertical-align: top;\n",
       "    }\n",
       "\n",
       "    .dataframe thead th {\n",
       "        text-align: right;\n",
       "    }\n",
       "</style>\n",
       "<table border=\"1\" class=\"dataframe\">\n",
       "  <thead>\n",
       "    <tr style=\"text-align: right;\">\n",
       "      <th></th>\n",
       "      <th>Video Time</th>\n",
       "      <th>Neutral</th>\n",
       "      <th>Happy</th>\n",
       "      <th>Sad</th>\n",
       "      <th>Angry</th>\n",
       "      <th>Surprised</th>\n",
       "      <th>Scared</th>\n",
       "      <th>Disgusted</th>\n",
       "      <th>Contempt</th>\n",
       "      <th>Valence</th>\n",
       "      <th>Arousal</th>\n",
       "    </tr>\n",
       "  </thead>\n",
       "  <tbody>\n",
       "    <tr>\n",
       "      <th>0</th>\n",
       "      <td>2023-04-24 00:00:00.000</td>\n",
       "      <td>NaN</td>\n",
       "      <td>NaN</td>\n",
       "      <td>NaN</td>\n",
       "      <td>NaN</td>\n",
       "      <td>NaN</td>\n",
       "      <td>NaN</td>\n",
       "      <td>NaN</td>\n",
       "      <td>NaN</td>\n",
       "      <td>NaN</td>\n",
       "      <td>NaN</td>\n",
       "    </tr>\n",
       "    <tr>\n",
       "      <th>1</th>\n",
       "      <td>2023-04-24 00:00:00.040</td>\n",
       "      <td>NaN</td>\n",
       "      <td>NaN</td>\n",
       "      <td>NaN</td>\n",
       "      <td>NaN</td>\n",
       "      <td>NaN</td>\n",
       "      <td>NaN</td>\n",
       "      <td>NaN</td>\n",
       "      <td>NaN</td>\n",
       "      <td>NaN</td>\n",
       "      <td>NaN</td>\n",
       "    </tr>\n",
       "    <tr>\n",
       "      <th>2</th>\n",
       "      <td>2023-04-24 00:00:00.080</td>\n",
       "      <td>NaN</td>\n",
       "      <td>NaN</td>\n",
       "      <td>NaN</td>\n",
       "      <td>NaN</td>\n",
       "      <td>NaN</td>\n",
       "      <td>NaN</td>\n",
       "      <td>NaN</td>\n",
       "      <td>NaN</td>\n",
       "      <td>NaN</td>\n",
       "      <td>NaN</td>\n",
       "    </tr>\n",
       "    <tr>\n",
       "      <th>3</th>\n",
       "      <td>2023-04-24 00:00:00.120</td>\n",
       "      <td>NaN</td>\n",
       "      <td>NaN</td>\n",
       "      <td>NaN</td>\n",
       "      <td>NaN</td>\n",
       "      <td>NaN</td>\n",
       "      <td>NaN</td>\n",
       "      <td>NaN</td>\n",
       "      <td>NaN</td>\n",
       "      <td>NaN</td>\n",
       "      <td>NaN</td>\n",
       "    </tr>\n",
       "    <tr>\n",
       "      <th>4</th>\n",
       "      <td>2023-04-24 00:00:00.160</td>\n",
       "      <td>NaN</td>\n",
       "      <td>NaN</td>\n",
       "      <td>NaN</td>\n",
       "      <td>NaN</td>\n",
       "      <td>NaN</td>\n",
       "      <td>NaN</td>\n",
       "      <td>NaN</td>\n",
       "      <td>NaN</td>\n",
       "      <td>NaN</td>\n",
       "      <td>NaN</td>\n",
       "    </tr>\n",
       "    <tr>\n",
       "      <th>5</th>\n",
       "      <td>2023-04-24 00:00:00.200</td>\n",
       "      <td>NaN</td>\n",
       "      <td>NaN</td>\n",
       "      <td>NaN</td>\n",
       "      <td>NaN</td>\n",
       "      <td>NaN</td>\n",
       "      <td>NaN</td>\n",
       "      <td>NaN</td>\n",
       "      <td>NaN</td>\n",
       "      <td>NaN</td>\n",
       "      <td>NaN</td>\n",
       "    </tr>\n",
       "    <tr>\n",
       "      <th>6</th>\n",
       "      <td>2023-04-24 00:00:00.240</td>\n",
       "      <td>NaN</td>\n",
       "      <td>NaN</td>\n",
       "      <td>NaN</td>\n",
       "      <td>NaN</td>\n",
       "      <td>NaN</td>\n",
       "      <td>NaN</td>\n",
       "      <td>NaN</td>\n",
       "      <td>NaN</td>\n",
       "      <td>NaN</td>\n",
       "      <td>NaN</td>\n",
       "    </tr>\n",
       "    <tr>\n",
       "      <th>7</th>\n",
       "      <td>2023-04-24 00:00:00.280</td>\n",
       "      <td>0.506445</td>\n",
       "      <td>0.000000e+00</td>\n",
       "      <td>0.000000</td>\n",
       "      <td>0.000000</td>\n",
       "      <td>0.000000e+00</td>\n",
       "      <td>0.000000e+00</td>\n",
       "      <td>0.000000</td>\n",
       "      <td>0.000000</td>\n",
       "      <td>0.000000</td>\n",
       "      <td>0.606562</td>\n",
       "    </tr>\n",
       "    <tr>\n",
       "      <th>8</th>\n",
       "      <td>2023-04-24 00:00:00.320</td>\n",
       "      <td>0.506471</td>\n",
       "      <td>1.000000e-09</td>\n",
       "      <td>0.000006</td>\n",
       "      <td>0.000000</td>\n",
       "      <td>1.940000e-07</td>\n",
       "      <td>4.000000e-09</td>\n",
       "      <td>0.000010</td>\n",
       "      <td>0.000025</td>\n",
       "      <td>-0.000010</td>\n",
       "      <td>0.606562</td>\n",
       "    </tr>\n",
       "    <tr>\n",
       "      <th>9</th>\n",
       "      <td>2023-04-24 00:00:00.360</td>\n",
       "      <td>0.504043</td>\n",
       "      <td>1.900000e-08</td>\n",
       "      <td>0.000012</td>\n",
       "      <td>0.004911</td>\n",
       "      <td>1.720000e-07</td>\n",
       "      <td>1.230000e-07</td>\n",
       "      <td>0.000284</td>\n",
       "      <td>0.000022</td>\n",
       "      <td>-0.004911</td>\n",
       "      <td>0.606548</td>\n",
       "    </tr>\n",
       "  </tbody>\n",
       "</table>\n",
       "</div>"
      ],
      "text/plain": [
       "               Video Time   Neutral         Happy       Sad     Angry  \\\n",
       "0 2023-04-24 00:00:00.000       NaN           NaN       NaN       NaN   \n",
       "1 2023-04-24 00:00:00.040       NaN           NaN       NaN       NaN   \n",
       "2 2023-04-24 00:00:00.080       NaN           NaN       NaN       NaN   \n",
       "3 2023-04-24 00:00:00.120       NaN           NaN       NaN       NaN   \n",
       "4 2023-04-24 00:00:00.160       NaN           NaN       NaN       NaN   \n",
       "5 2023-04-24 00:00:00.200       NaN           NaN       NaN       NaN   \n",
       "6 2023-04-24 00:00:00.240       NaN           NaN       NaN       NaN   \n",
       "7 2023-04-24 00:00:00.280  0.506445  0.000000e+00  0.000000  0.000000   \n",
       "8 2023-04-24 00:00:00.320  0.506471  1.000000e-09  0.000006  0.000000   \n",
       "9 2023-04-24 00:00:00.360  0.504043  1.900000e-08  0.000012  0.004911   \n",
       "\n",
       "      Surprised        Scared  Disgusted  Contempt   Valence   Arousal  \n",
       "0           NaN           NaN        NaN       NaN       NaN       NaN  \n",
       "1           NaN           NaN        NaN       NaN       NaN       NaN  \n",
       "2           NaN           NaN        NaN       NaN       NaN       NaN  \n",
       "3           NaN           NaN        NaN       NaN       NaN       NaN  \n",
       "4           NaN           NaN        NaN       NaN       NaN       NaN  \n",
       "5           NaN           NaN        NaN       NaN       NaN       NaN  \n",
       "6           NaN           NaN        NaN       NaN       NaN       NaN  \n",
       "7  0.000000e+00  0.000000e+00   0.000000  0.000000  0.000000  0.606562  \n",
       "8  1.940000e-07  4.000000e-09   0.000010  0.000025 -0.000010  0.606562  \n",
       "9  1.720000e-07  1.230000e-07   0.000284  0.000022 -0.004911  0.606548  "
      ]
     },
     "execution_count": 39,
     "metadata": {},
     "output_type": "execute_result"
    }
   ],
   "source": [
    "emotions.iloc[:10] #проверка значений NaN"
   ]
  },
  {
   "cell_type": "markdown",
   "id": "8d4d8864",
   "metadata": {},
   "source": [
    "## Формирование итогового выходного массива"
   ]
  },
  {
   "cell_type": "markdown",
   "id": "ae594894",
   "metadata": {},
   "source": [
    "#### Скелет итогового датафрейма"
   ]
  },
  {
   "cell_type": "code",
   "execution_count": 7,
   "id": "3f3f9b37",
   "metadata": {
    "scrolled": true
   },
   "outputs": [
    {
     "name": "stderr",
     "output_type": "stream",
     "text": [
      "ic| 3851867326.py:1 in <module> at 15:19:59.571\n",
      "ic| 3851867326.py:4 in <module> at 15:19:59.612\n"
     ]
    },
    {
     "data": {
      "text/html": [
       "<div>\n",
       "<style scoped>\n",
       "    .dataframe tbody tr th:only-of-type {\n",
       "        vertical-align: middle;\n",
       "    }\n",
       "\n",
       "    .dataframe tbody tr th {\n",
       "        vertical-align: top;\n",
       "    }\n",
       "\n",
       "    .dataframe thead th {\n",
       "        text-align: right;\n",
       "    }\n",
       "</style>\n",
       "<table border=\"1\" class=\"dataframe\">\n",
       "  <thead>\n",
       "    <tr style=\"text-align: right;\">\n",
       "      <th></th>\n",
       "      <th>id</th>\n",
       "      <th>name</th>\n",
       "      <th>time</th>\n",
       "      <th>stimul</th>\n",
       "      <th>trial</th>\n",
       "      <th>Neutral</th>\n",
       "      <th>Happy</th>\n",
       "      <th>Sad</th>\n",
       "      <th>Angry</th>\n",
       "      <th>Surprised</th>\n",
       "      <th>...</th>\n",
       "      <th>Arousal</th>\n",
       "      <th>ABDOMINAL_RESP</th>\n",
       "      <th>ABS_BLOOD_VOLUME</th>\n",
       "      <th>BLOOD_VOLUME</th>\n",
       "      <th>EDA</th>\n",
       "      <th>HEART_RATE</th>\n",
       "      <th>PLE</th>\n",
       "      <th>THORACIC_RESP</th>\n",
       "      <th>TONIC_EDA</th>\n",
       "      <th>TREMOR</th>\n",
       "    </tr>\n",
       "  </thead>\n",
       "  <tbody>\n",
       "  </tbody>\n",
       "</table>\n",
       "<p>0 rows × 24 columns</p>\n",
       "</div>"
      ],
      "text/plain": [
       "Empty DataFrame\n",
       "Columns: [id, name, time, stimul, trial, Neutral, Happy, Sad, Angry, Surprised, Scared, Disgusted, Contempt, Valence, Arousal, ABDOMINAL_RESP, ABS_BLOOD_VOLUME, BLOOD_VOLUME, EDA, HEART_RATE, PLE, THORACIC_RESP, TONIC_EDA, TREMOR]\n",
       "Index: []\n",
       "\n",
       "[0 rows x 24 columns]"
      ]
     },
     "execution_count": 7,
     "metadata": {},
     "output_type": "execute_result"
    }
   ],
   "source": [
    "ic()\n",
    "subID = timeline[timeline['name'] == subject]['id'][0]\n",
    "test = pd.DataFrame(columns= ['id', 'name', 'time', 'stimul', 'trial'] + list(emotions.columns)[1:] + polyChannels)\n",
    "ic()\n",
    "test"
   ]
  },
  {
   "cell_type": "markdown",
   "id": "5b4d4119",
   "metadata": {},
   "source": [
    "#### Функция для конвертации объекта datetime.time в миллисекунды"
   ]
  },
  {
   "cell_type": "code",
   "execution_count": 8,
   "id": "3a588767",
   "metadata": {},
   "outputs": [],
   "source": [
    "def totalMiliSec(time):\n",
    "    return (time.microsecond + time.second * 1000000 + time.minute * 60 * 1000000 + time.hour * 60 * 60 * 1000000)/1000\n"
   ]
  },
  {
   "cell_type": "markdown",
   "id": "372edffb",
   "metadata": {},
   "source": [
    "#### Функция для фильтрации нулевых стимулов"
   ]
  },
  {
   "cell_type": "code",
   "execution_count": 9,
   "id": "ca197109",
   "metadata": {},
   "outputs": [],
   "source": [
    "def filter_stim(s): \n",
    "    return not re.search(r'C0_\\d', s)"
   ]
  },
  {
   "cell_type": "code",
   "execution_count": 10,
   "id": "5f205707",
   "metadata": {},
   "outputs": [
    {
     "name": "stderr",
     "output_type": "stream",
     "text": [
      "ic| 431919258.py:1 in <module> at 15:20:22.818\n",
      "ic| 431919258.py:3 in <module> at 15:20:22.841\n"
     ]
    },
    {
     "name": "stdout",
     "output_type": "stream",
     "text": [
      "85656.0\n",
      "102966.0\n",
      "119607.0\n",
      "134862.0\n",
      "148700.0\n",
      "204951.0\n",
      "223267.0\n",
      "241486.0\n",
      "256666.0\n",
      "270894.0\n",
      "352870.0\n",
      "367758.0\n",
      "382134.0\n",
      "396667.0\n",
      "412270.0\n"
     ]
    }
   ],
   "source": [
    "ic()\n",
    "stimulRead = filter(filter_stim, list(timeline.columns[2:])) #фильтруем список стимулов из датафрейма, чтоб убрать нулевые\n",
    "ic()\n",
    "for s in stimulRead:\n",
    "    print(totalMiliSec(timeline.loc[timeline['id'] == subID][s][0].time())) #время предявления каждого (ненулевого) стимула в мс"
   ]
  },
  {
   "cell_type": "markdown",
   "id": "d277bf7c",
   "metadata": {},
   "source": [
    "#### Функция для копирования и конвертации фреймов полиграфа"
   ]
  },
  {
   "cell_type": "code",
   "execution_count": 17,
   "id": "6c9f455b",
   "metadata": {},
   "outputs": [],
   "source": [
    "def copyAconvert(df):\n",
    "    df1 = df.copy(deep=True)\n",
    "    df1['Time'] = df1['Time'].map(lambda x: (x.microsecond + x.second * 1000000 + x.minute * 60 * 1000000 +\n",
    "                                         x.hour * 60 * 60 * 1000000) / 1000)\n",
    "    return df1"
   ]
  },
  {
   "cell_type": "markdown",
   "id": "6bd96d42",
   "metadata": {},
   "source": [
    "#### Функция для усреднения строк файлов полиграфа"
   ]
  },
  {
   "cell_type": "code",
   "execution_count": 29,
   "id": "5d363cbb",
   "metadata": {},
   "outputs": [],
   "source": [
    "def sortPoly(df, t):\n",
    "    rows = df[(t <= df['Time']) & (df['Time'] < t + 50)]\n",
    "    #print(rows['Value'])\n",
    "    if len(rows) > 1:\n",
    "        tot = rows['Value'].mean()\n",
    "    elif len(rows) != 0:\n",
    "        tot = rows.iloc[0]['Value']\n",
    "    else:\n",
    "        tot = 0\n",
    "    return tot"
   ]
  },
  {
   "cell_type": "markdown",
   "id": "85192153",
   "metadata": {},
   "source": [
    "#### Функция для усреднения строк файлов FaceReader"
   ]
  },
  {
   "cell_type": "code",
   "execution_count": 46,
   "id": "569bb7f3",
   "metadata": {},
   "outputs": [],
   "source": [
    "def sortEmot(df, t):\n",
    "    \n",
    "    rows = df[(t <= df['Video Time']) & (df['Video Time'] < t + 50)]\n",
    "\n",
    "    if len(rows) > 1:\n",
    "        tot = rows.mean().to_frame().T\n",
    "    elif len(rows) != 0:\n",
    "        tot = rows.reset_index(drop=True)\n",
    "    else:\n",
    "        tot = pd.DataFrame(0, index=[0],\n",
    "                              columns=['Neutral', 'Happy', 'Sad', 'Angry', 'Surprised', 'Scared', 'Disgusted',\n",
    "                                       'Contempt', 'Valence', 'Arousal'])\n",
    "\n",
    "    return tot"
   ]
  },
  {
   "cell_type": "markdown",
   "id": "15b5c803",
   "metadata": {},
   "source": [
    "#### Формирование итогового датафрейма"
   ]
  },
  {
   "cell_type": "code",
   "execution_count": 33,
   "id": "b8fca3b6",
   "metadata": {
    "scrolled": true
   },
   "outputs": [],
   "source": [
    "#конечное время\n",
    "end_time = 0 #в миллисекундах, самая ппоследняя временная метка из двух файлов\n",
    "if (polyDict['EDA']['Time'].iloc[-1].time() > emotions['Video Time'].iloc[-1].time()):\n",
    "    end_time = totalMiliSec(polyDict['EDA']['Time'].iloc[-1].time())\n",
    "else:\n",
    "    end_time = totalMiliSec(emotions['Video Time'].iloc[-1].time())\n",
    "#print (end_time)\n",
    "df2 = emotions.copy(deep=True)\n",
    "df2['Video Time'] = df2['Video Time'].map(\n",
    "    lambda x: (x.microsecond + x.second * 1000000 + x.minute * 60 * 1000000 +\n",
    "               x.hour * 60 * 60 * 1000000) / 1000)\n",
    "\n",
    "polyDict2 = {}\n",
    "for k in polyDict:\n",
    "        polyDict2[k] = copyAconvert(polyDict[k])\n"
   ]
  },
  {
   "cell_type": "code",
   "execution_count": 47,
   "id": "52957d30",
   "metadata": {},
   "outputs": [
    {
     "name": "stderr",
     "output_type": "stream",
     "text": [
      "ic| 805727084.py:2 in <module> at 15:55:38.227\n",
      "ic| 805727084.py:22 in <module> at 15:57:16.083\n"
     ]
    }
   ],
   "source": [
    "# очистка итогового датафрейма\n",
    "ic()  # start\n",
    "test.drop(test.index, inplace=True)\n",
    "\n",
    "time = 0  # начальное время\n",
    "pTotal = {}\n",
    "while time < int(end_time):\n",
    "    for k in polyDict2:\n",
    "        pTotal[k] = sortPoly(polyDict2[k], time)\n",
    "    # ic(pTotal)\n",
    "\n",
    "    eTotal = sortEmot(df2, time)\n",
    "    time += 50  # временной шаг (может регулироваться)\n",
    "    test.loc[len(test.index)] = [subID, subject, time, 0, 0, eTotal['Neutral'][0], eTotal['Happy'][0],\n",
    "                                 eTotal['Sad'][0], eTotal['Angry'][0], eTotal['Surprised'][0],\n",
    "                                 eTotal['Scared'][0], eTotal['Disgusted'][0], eTotal['Contempt'][0],\n",
    "                                 eTotal['Valence'][0], eTotal['Arousal'][0], pTotal['ABDOMINAL_RESP'], pTotal['ABS_BLOOD_VOLUME'], pTotal['BLOOD_VOLUME'], pTotal['EDA'], pTotal['HEART_RATE'], pTotal['PLE'], pTotal['THORACIC_RESP'], pTotal['TONIC_EDA'], pTotal['TREMOR']]\n",
    "\n",
    "    pTotal.clear()\n",
    "    eTotal = eTotal.iloc[0:0]\n",
    "\n",
    "ic()  # stop\n",
    "test.to_csv(dataDir + 'file.csv', encoding='utf-8')"
   ]
  },
  {
   "cell_type": "code",
   "execution_count": null,
   "id": "7dcce995",
   "metadata": {},
   "outputs": [],
   "source": []
  },
  {
   "cell_type": "code",
   "execution_count": null,
   "id": "2d6964dc",
   "metadata": {},
   "outputs": [],
   "source": []
  }
 ],
 "metadata": {
  "kernelspec": {
   "display_name": "Python 3 (ipykernel)",
   "language": "python",
   "name": "python3"
  },
  "language_info": {
   "codemirror_mode": {
    "name": "ipython",
    "version": 3
   },
   "file_extension": ".py",
   "mimetype": "text/x-python",
   "name": "python",
   "nbconvert_exporter": "python",
   "pygments_lexer": "ipython3",
   "version": "3.10.9"
  }
 },
 "nbformat": 4,
 "nbformat_minor": 5
}
